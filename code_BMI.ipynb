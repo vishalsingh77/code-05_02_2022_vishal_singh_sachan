{
 "cells": [
  {
   "cell_type": "code",
   "execution_count": 28,
   "metadata": {
    "scrolled": true
   },
   "outputs": [
    {
     "data": {
      "text/html": [
       "<div>\n",
       "<style scoped>\n",
       "    .dataframe tbody tr th:only-of-type {\n",
       "        vertical-align: middle;\n",
       "    }\n",
       "\n",
       "    .dataframe tbody tr th {\n",
       "        vertical-align: top;\n",
       "    }\n",
       "\n",
       "    .dataframe thead th {\n",
       "        text-align: right;\n",
       "    }\n",
       "</style>\n",
       "<table border=\"1\" class=\"dataframe\">\n",
       "  <thead>\n",
       "    <tr style=\"text-align: right;\">\n",
       "      <th></th>\n",
       "      <th>Gender</th>\n",
       "      <th>HeightCm</th>\n",
       "      <th>WeightKg</th>\n",
       "    </tr>\n",
       "  </thead>\n",
       "  <tbody>\n",
       "    <tr>\n",
       "      <th>0</th>\n",
       "      <td>Male</td>\n",
       "      <td>171</td>\n",
       "      <td>96</td>\n",
       "    </tr>\n",
       "    <tr>\n",
       "      <th>1</th>\n",
       "      <td>Male</td>\n",
       "      <td>incorrect value</td>\n",
       "      <td>85</td>\n",
       "    </tr>\n",
       "    <tr>\n",
       "      <th>2</th>\n",
       "      <td>Male</td>\n",
       "      <td>180</td>\n",
       "      <td>77</td>\n",
       "    </tr>\n",
       "    <tr>\n",
       "      <th>3</th>\n",
       "      <td>Female</td>\n",
       "      <td>166</td>\n",
       "      <td>62</td>\n",
       "    </tr>\n",
       "    <tr>\n",
       "      <th>4</th>\n",
       "      <td>Female</td>\n",
       "      <td>150</td>\n",
       "      <td>70</td>\n",
       "    </tr>\n",
       "  </tbody>\n",
       "</table>\n",
       "</div>"
      ],
      "text/plain": [
       "   Gender         HeightCm  WeightKg\n",
       "0    Male              171        96\n",
       "1    Male  incorrect value        85\n",
       "2    Male              180        77\n",
       "3  Female              166        62\n",
       "4  Female              150        70"
      ]
     },
     "execution_count": 28,
     "metadata": {},
     "output_type": "execute_result"
    }
   ],
   "source": [
    "import pandas as pd\n",
    "import warnings\n",
    "warnings.filterwarnings(\"ignore\")\n",
    "\n",
    "\n",
    "data_json=[{\"Gender\": \"Male\", \"HeightCm\": 171, \"WeightKg\": 96 },\n",
    "{ \"Gender\": \"Male\", \"HeightCm\": 161, \"WeightKg\": 85 },\n",
    "{ \"Gender\": \"Male\", \"HeightCm\": 180, \"WeightKg\": 77 },\n",
    "{ \"Gender\": \"Female\", \"HeightCm\": 166, \"WeightKg\": 62},\n",
    "{\"Gender\": \"Female\", \"HeightCm\": 150, \"WeightKg\": 70},\n",
    "{\"Gender\": \"Female\", \"HeightCm\": 167, \"WeightKg\": 82}]\n",
    "\n",
    "\n",
    "data=pd.json_normalize(data_json)\n",
    "\n",
    "# introducing error in one of the records\n",
    "data.loc[1,'HeightCm']='incorrect value'\n",
    "\n",
    "data.head()"
   ]
  },
  {
   "cell_type": "code",
   "execution_count": 29,
   "metadata": {},
   "outputs": [
    {
     "data": {
      "text/plain": [
       "{18.4: ('Under Weight', 'Malnutrition risk'),\n",
       " 18.5: ('Normal Weight', 'Low risk'),\n",
       " 25: ('Over Weight', 'Enhanced risk'),\n",
       " 30: ('Moderately Obese', 'Medium risk'),\n",
       " 35: ('Severely Obese', 'High risk'),\n",
       " 40: ('Very Severely Obese', 'Very high risk')}"
      ]
     },
     "execution_count": 29,
     "metadata": {},
     "output_type": "execute_result"
    }
   ],
   "source": [
    "bmi_table2={18.4:('Under Weight','Malnutrition risk')\n",
    "            ,18.5:('Normal Weight','Low risk'),\n",
    "            25:('Over Weight','Enhanced risk'),\n",
    "            30:('Moderately Obese','Medium risk'),\n",
    "            35:('Severely Obese','High risk'),\n",
    "            40:('Very Severely Obese','Very high risk')}\n",
    "bmi_table2"
   ]
  },
  {
   "cell_type": "code",
   "execution_count": 30,
   "metadata": {},
   "outputs": [],
   "source": [
    "def bmi_check(gender,h,w):\n",
    "    # bmi calculated\n",
    "    bmi_val = w/((h/100)**2)\n",
    "    \n",
    "    #fetch bmi category and bmi range for dictionary\n",
    "    \n",
    "    if bmi_val <= 18.4 :\n",
    "        bmi_cat,bmi_range = bmi_table2[18.4]\n",
    "\n",
    "    elif bmi_val >=18.5 and bmi_val <= 24.9:\n",
    "        bmi_cat,bmi_range = bmi_table2[18.5]\n",
    "        \n",
    "    elif bmi_val >=25 and bmi_val <= 29.9:\n",
    "        bmi_cat,bmi_range = bmi_table2[25]\n",
    "\n",
    "    elif bmi_val >=30 and bmi_val <= 34.9:\n",
    "        bmi_cat,bmi_range = bmi_table2[30]\n",
    "        \n",
    "    elif bmi_val >= 35 and bmi_val <= 39.9:\n",
    "        bmi_cat,bmi_range = bmi_table2[35]\n",
    "        \n",
    "    elif bmi_val > 40:\n",
    "        bmi_cat,bmi_range = bmi_table2[40]\n",
    "    \n",
    "    return bmi_cat,bmi_range\n",
    "\n",
    "\n",
    "\n",
    "#records with some data issues\n",
    "\n",
    "incorrect_records=data.loc[~(data['Gender'].astype(str).str.isalpha() & data['HeightCm'].astype(str).str.isdigit() & data['WeightKg'].astype(str).str.isdigit() )]\n",
    "#fill values in case of faulty records\n",
    "incorrect_records.loc[:,'bmi_cat']='Error with Records'\n",
    "incorrect_records.loc[:,'bmi_range']='Error with Records'\n",
    "\n",
    "#final records to check BMI \n",
    "data=data.loc[(data['Gender'].astype(str).str.isalpha() & data['HeightCm'].astype(str).str.isdigit() & data['WeightKg'].astype(str).str.isdigit() )]\n",
    "\n",
    "\n",
    "for index,row in data.iterrows():\n",
    "    #check data type should be correct\n",
    "    bmi_cat,bmi_range=bmi_check(row['Gender'],row['HeightCm'],row['WeightKg'])\n",
    "    data.loc[index,'bmi_cat']=bmi_cat\n",
    "    data.loc[index,'bmi_range']=bmi_range"
   ]
  },
  {
   "cell_type": "code",
   "execution_count": 31,
   "metadata": {},
   "outputs": [
    {
     "data": {
      "text/html": [
       "<div>\n",
       "<style scoped>\n",
       "    .dataframe tbody tr th:only-of-type {\n",
       "        vertical-align: middle;\n",
       "    }\n",
       "\n",
       "    .dataframe tbody tr th {\n",
       "        vertical-align: top;\n",
       "    }\n",
       "\n",
       "    .dataframe thead th {\n",
       "        text-align: right;\n",
       "    }\n",
       "</style>\n",
       "<table border=\"1\" class=\"dataframe\">\n",
       "  <thead>\n",
       "    <tr style=\"text-align: right;\">\n",
       "      <th></th>\n",
       "      <th>Gender</th>\n",
       "      <th>HeightCm</th>\n",
       "      <th>WeightKg</th>\n",
       "      <th>bmi_cat</th>\n",
       "      <th>bmi_range</th>\n",
       "    </tr>\n",
       "  </thead>\n",
       "  <tbody>\n",
       "    <tr>\n",
       "      <th>0</th>\n",
       "      <td>Male</td>\n",
       "      <td>171</td>\n",
       "      <td>96</td>\n",
       "      <td>Moderately Obese</td>\n",
       "      <td>Medium risk</td>\n",
       "    </tr>\n",
       "    <tr>\n",
       "      <th>1</th>\n",
       "      <td>Male</td>\n",
       "      <td>180</td>\n",
       "      <td>77</td>\n",
       "      <td>Normal Weight</td>\n",
       "      <td>Low risk</td>\n",
       "    </tr>\n",
       "    <tr>\n",
       "      <th>2</th>\n",
       "      <td>Female</td>\n",
       "      <td>166</td>\n",
       "      <td>62</td>\n",
       "      <td>Normal Weight</td>\n",
       "      <td>Low risk</td>\n",
       "    </tr>\n",
       "    <tr>\n",
       "      <th>3</th>\n",
       "      <td>Female</td>\n",
       "      <td>150</td>\n",
       "      <td>70</td>\n",
       "      <td>Moderately Obese</td>\n",
       "      <td>Medium risk</td>\n",
       "    </tr>\n",
       "    <tr>\n",
       "      <th>4</th>\n",
       "      <td>Female</td>\n",
       "      <td>167</td>\n",
       "      <td>82</td>\n",
       "      <td>Over Weight</td>\n",
       "      <td>Enhanced risk</td>\n",
       "    </tr>\n",
       "    <tr>\n",
       "      <th>5</th>\n",
       "      <td>Male</td>\n",
       "      <td>incorrect value</td>\n",
       "      <td>85</td>\n",
       "      <td>Error with Records</td>\n",
       "      <td>Error with Records</td>\n",
       "    </tr>\n",
       "  </tbody>\n",
       "</table>\n",
       "</div>"
      ],
      "text/plain": [
       "   Gender         HeightCm  WeightKg             bmi_cat           bmi_range\n",
       "0    Male              171        96    Moderately Obese         Medium risk\n",
       "1    Male              180        77       Normal Weight            Low risk\n",
       "2  Female              166        62       Normal Weight            Low risk\n",
       "3  Female              150        70    Moderately Obese         Medium risk\n",
       "4  Female              167        82         Over Weight       Enhanced risk\n",
       "5    Male  incorrect value        85  Error with Records  Error with Records"
      ]
     },
     "execution_count": 31,
     "metadata": {},
     "output_type": "execute_result"
    }
   ],
   "source": [
    "#incorrect records are placed at the end of the dataframe\n",
    "pd.concat([data,incorrect_records],axis=0).reset_index(drop=True)"
   ]
  },
  {
   "cell_type": "code",
   "execution_count": 32,
   "metadata": {},
   "outputs": [
    {
     "data": {
      "text/plain": [
       "'{\"0\":{\"Gender\":\"Male\",\"HeightCm\":171,\"WeightKg\":96,\"bmi_cat\":\"Moderately Obese\",\"bmi_range\":\"Medium risk\"},\"1\":{\"Gender\":\"Male\",\"HeightCm\":180,\"WeightKg\":77,\"bmi_cat\":\"Normal Weight\",\"bmi_range\":\"Low risk\"},\"2\":{\"Gender\":\"Female\",\"HeightCm\":166,\"WeightKg\":62,\"bmi_cat\":\"Normal Weight\",\"bmi_range\":\"Low risk\"},\"3\":{\"Gender\":\"Female\",\"HeightCm\":150,\"WeightKg\":70,\"bmi_cat\":\"Moderately Obese\",\"bmi_range\":\"Medium risk\"},\"4\":{\"Gender\":\"Female\",\"HeightCm\":167,\"WeightKg\":82,\"bmi_cat\":\"Over Weight\",\"bmi_range\":\"Enhanced risk\"},\"5\":{\"Gender\":\"Male\",\"HeightCm\":\"incorrect value\",\"WeightKg\":85,\"bmi_cat\":\"Error with Records\",\"bmi_range\":\"Error with Records\"}}'"
      ]
     },
     "execution_count": 32,
     "metadata": {},
     "output_type": "execute_result"
    }
   ],
   "source": [
    "# for converting the dataframe into json\n",
    "pd.concat([data,incorrect_records],axis=0).reset_index(drop=True).T.to_json()"
   ]
  }
 ],
 "metadata": {
  "kernelspec": {
   "display_name": "Python 3",
   "language": "python",
   "name": "python3"
  },
  "language_info": {
   "codemirror_mode": {
    "name": "ipython",
    "version": 3
   },
   "file_extension": ".py",
   "mimetype": "text/x-python",
   "name": "python",
   "nbconvert_exporter": "python",
   "pygments_lexer": "ipython3",
   "version": "3.8.5"
  }
 },
 "nbformat": 4,
 "nbformat_minor": 4
}
